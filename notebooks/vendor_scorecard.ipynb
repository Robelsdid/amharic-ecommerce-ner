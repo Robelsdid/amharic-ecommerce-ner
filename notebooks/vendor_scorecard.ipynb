{
 "cells": [
  {
   "cell_type": "code",
   "execution_count": 2,
   "id": "eeb4264f",
   "metadata": {},
   "outputs": [
    {
     "name": "stdout",
     "output_type": "stream",
     "text": [
      " Vendor Scorecard Analysis Setup Complete!\n"
     ]
    }
   ],
   "source": [
    "#  Imports and Setup for Vendor Scorecard\n",
    "import torch\n",
    "import numpy as np\n",
    "import pandas as pd\n",
    "import matplotlib.pyplot as plt\n",
    "import seaborn as sns\n",
    "from transformers import AutoTokenizer, AutoModelForTokenClassification\n",
    "import json\n",
    "from datetime import datetime, timedelta\n",
    "import warnings\n",
    "warnings.filterwarnings('ignore')\n",
    "\n",
    "# Set up plotting style\n",
    "plt.style.use('seaborn-v0_8')\n",
    "sns.set_palette(\"husl\")\n",
    "\n",
    "print(\" Vendor Scorecard Analysis Setup Complete!\")\n"
   ]
  },
  {
   "cell_type": "code",
   "execution_count": null,
   "id": "72cce66b",
   "metadata": {},
   "outputs": [
    {
     "name": "stdout",
     "output_type": "stream",
     "text": [
      "Loading models and vendor data...\n",
      "✅ Model loaded: XLM-RoBERTa\n",
      "✅ Using device: cuda\n",
      "✅ Loaded data for 2 vendors\n",
      "✅ Ready for vendor scorecard analysis!\n"
     ]
    }
   ],
   "source": [
    "#  Load Models and Data\n",
    "print(\"Loading models and vendor data...\")\n",
    "\n",
    "# Load the best performing model (XLM-RoBERTa based on previous analysis)\n",
    "model_path = \"./ner-finetuned-amharic-final\"\n",
    "tokenizer = AutoTokenizer.from_pretrained(model_path)\n",
    "model = AutoModelForTokenClassification.from_pretrained(model_path)\n",
    "\n",
    "# Set device\n",
    "device = torch.device(\"cuda\" if torch.cuda.is_available() else \"cpu\")\n",
    "model.to(device)\n",
    "model.eval()\n",
    "\n",
    "print(f\" Model loaded: XLM-RoBERTa\")\n",
    "print(f\" Using device: {device}\")\n",
    "\n",
    "# Load vendor data (simulated data for demonstration)\n",
    "vendor_data = {\n",
    "    \"ZemenExpress\": {\n",
    "        \"posts\": [\n",
    "            {\"text\": \"ይህ አዲስ Long-lasting battery በ 5000 ብር ይሸጣል\", \"views\": 150, \"timestamp\": \"2025-01-15\"},\n",
    "            {\"text\": \"የሚስተካከል የሚስተካከል የሚስተካከል የሚስተካከል የሚስተካከል\", \"views\": 89, \"timestamp\": \"2025-01-16\"},\n",
    "            {\"text\": \"መገናኛ_መሰረት_ደፋር_ሞል_ሁለተኛ_ፎቅ ላይ ያገኙት።\", \"views\": 234, \"timestamp\": \"2025-01-17\"}\n",
    "        ]\n",
    "    },\n",
    "    \"FashionTera\": {\n",
    "        \"posts\": [\n",
    "            {\"text\": \"ዋጋ 1000 ብር ነው የሚሸጥው\", \"views\": 67, \"timestamp\": \"2025-01-15\"},\n",
    "            {\"text\": \"የሚስተካከል የሚስተካከል የሚስተካከል የሚስተካከል የሚስተካከል\", \"views\": 45, \"timestamp\": \"2025-01-16\"},\n",
    "            {\"text\": \"ይህ አዲስ Long-lasting battery በ 5000 ብር ይሸጣል\", \"views\": 178, \"timestamp\": \"2025-01-17\"}\n",
    "        ]\n",
    "    }\n",
    "}\n",
    "\n",
    "print(f\" Loaded data for {len(vendor_data)} vendors\")\n",
    "print(\" Ready for vendor scorecard analysis!\")"
   ]
  },
  {
   "cell_type": "code",
   "execution_count": null,
   "id": "162dc129",
   "metadata": {},
   "outputs": [],
   "source": []
  }
 ],
 "metadata": {
  "kernelspec": {
   "display_name": "Python 3",
   "language": "python",
   "name": "python3"
  },
  "language_info": {
   "codemirror_mode": {
    "name": "ipython",
    "version": 3
   },
   "file_extension": ".py",
   "mimetype": "text/x-python",
   "name": "python",
   "nbconvert_exporter": "python",
   "pygments_lexer": "ipython3",
   "version": "3.12.0"
  }
 },
 "nbformat": 4,
 "nbformat_minor": 5
}
